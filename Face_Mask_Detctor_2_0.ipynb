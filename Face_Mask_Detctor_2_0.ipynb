{
  "nbformat": 4,
  "nbformat_minor": 0,
  "metadata": {
    "colab": {
      "name": "Face Mask Detctor - 2.0.ipynb",
      "provenance": [],
      "collapsed_sections": []
    },
    "kernelspec": {
      "name": "python3",
      "display_name": "Python 3"
    },
    "accelerator": "GPU"
  },
  "cells": [
    {
      "cell_type": "markdown",
      "metadata": {
        "id": "V7C0686r4Xvz"
      },
      "source": [
        "Mounting the drive"
      ]
    },
    {
      "cell_type": "code",
      "metadata": {
        "id": "GEgI83GzzTIZ",
        "colab": {
          "base_uri": "https://localhost:8080/"
        },
        "outputId": "e653a6ec-b1c9-4309-db35-a73f5c023327"
      },
      "source": [
        "from google.colab import drive\n",
        "drive.mount('/content/drive')\n",
        "import os\n",
        "os.chdir(\"/content/drive/My Drive/\")\n",
        "DataSet ='dataset'\n",
        "Data_dir = os.listdir(DataSet)\n",
        "print(Data_dir)"
      ],
      "execution_count": null,
      "outputs": [
        {
          "output_type": "stream",
          "text": [
            "Mounted at /content/drive\n",
            "['with_mask', 'without_mask']\n"
          ],
          "name": "stdout"
        }
      ]
    },
    {
      "cell_type": "markdown",
      "metadata": {
        "id": "w4_zlg3c4en6"
      },
      "source": [
        "Pre-processing the images and One hot encoding\n"
      ]
    },
    {
      "cell_type": "code",
      "metadata": {
        "id": "nbxY30epzq1A",
        "colab": {
          "base_uri": "https://localhost:8080/",
          "height": 52
        },
        "outputId": "40e7e908-dd7e-43a9-bb45-8546697d2cf2"
      },
      "source": [
        "#importing Required libraries\n",
        "import cv2\n",
        "import numpy as np\n",
        "from tensorflow.keras.utils import to_categorical\n",
        "from sklearn.preprocessing import LabelBinarizer\n",
        "from sklearn.model_selection import train_test_split\n",
        "\n",
        "#Defining the Dimensions of images\n",
        "img_rows, img_cols = 112 , 112\n",
        "\n",
        " #Defining Empty List images[] and labels[] \n",
        " #images[] will store all images ones all resizing and grayscaling is performed.\n",
        " #labels[] stores the classes of image, i.e: With mask and without Mask.\n",
        "images = []\n",
        "labels = []\n",
        "\n",
        "#Data Preprocessing to convert Images to Grayscale and separate out labels and Images\n",
        "# This for loop iterate over folder (With_Mask and Without_Mask folder) \n",
        "for category in Data_dir:\n",
        "  folder_path = os.path.join(DataSet, category)\n",
        "  for img in os.listdir(folder_path):\n",
        "    img_path = os.path.join(folder_path, img)\n",
        "    img=cv2.imread(img_path)\n",
        "\n",
        "    try:\n",
        "      grayscale_img = cv2.cvtColor(img,cv2.COLOR_BGR2GRAY)\n",
        "      resized_img = cv2.resize(grayscale_img,(img_rows, img_cols))\n",
        "       # inserting processed images into images list and its type into labels list\n",
        "      images.append(resized_img)\n",
        "      labels.append(category)\n",
        "    except Exception as e:\n",
        "      print(\"Exception:\",e)\n",
        "\n",
        "\n",
        "images = np.array(images, dtype=\"float32\")/255.0\n",
        "labels = np.array(labels)\n",
        "images = np.reshape(images,(images.shape[0],img_rows, img_cols,1))\n",
        "\n",
        "# Performs one hot encoding on the labels since labels are in textual forms\n",
        "# Creating the instance of LabelBinarizer\n",
        "\n",
        "lb = LabelBinarizer()\n",
        "\n",
        "# fit_transform() will convert text into numerical value\n",
        "labels = lb.fit_transform(labels)\n",
        "labels = to_categorical(labels)\n",
        "\n",
        "(train_x, test_x, train_y, test_y) = train_test_split(images, labels, test_size=0.25,random_state=42)\n",
        "\n",
        "''' #temporary Data Augmentation\n",
        "from tensorflow.keras.preprocessing.image import ImageDataGenerator\n",
        "aug = ImageDataGenerator(\n",
        "\trotation_range=20,\n",
        "\tzoom_range=0.15,\n",
        "\twidth_shift_range=0.2,\n",
        "\theight_shift_range=0.2,\n",
        "\tshear_range=0.15,\n",
        "\thorizontal_flip=True,\n",
        "\tfill_mode=\"nearest\")\n",
        "'''\n"
      ],
      "execution_count": null,
      "outputs": [
        {
          "output_type": "execute_result",
          "data": {
            "application/vnd.google.colaboratory.intrinsic+json": {
              "type": "string"
            },
            "text/plain": [
              "' #temporary Data Augmentation\\nfrom tensorflow.keras.preprocessing.image import ImageDataGenerator\\naug = ImageDataGenerator(\\n\\trotation_range=20,\\n\\tzoom_range=0.15,\\n\\twidth_shift_range=0.2,\\n\\theight_shift_range=0.2,\\n\\tshear_range=0.15,\\n\\thorizontal_flip=True,\\n\\tfill_mode=\"nearest\")\\n'"
            ]
          },
          "metadata": {
            "tags": []
          },
          "execution_count": 4
        }
      ]
    },
    {
      "cell_type": "markdown",
      "metadata": {
        "id": "OKpCZPFK4xi_"
      },
      "source": [
        "Building the Convolution neural network"
      ]
    },
    {
      "cell_type": "code",
      "metadata": {
        "id": "xpJ8LlLQ121q",
        "colab": {
          "base_uri": "https://localhost:8080/"
        },
        "outputId": "388ddfa7-8e7e-4008-ddaf-fb6a99776d72"
      },
      "source": [
        "from keras.models import Sequential\n",
        "from keras.layers import Dense,Activation,Flatten,Dropout\n",
        "from keras.layers import Conv2D,MaxPooling2D,AveragePooling2D\n",
        "\n",
        "num_classes = 2\n",
        "batch_size = 32\n",
        "\n",
        "#Defining the Model for Convolutional Neural Network\n",
        "model = Sequential()\n",
        "\n",
        "model.add(Conv2D(64,(3,3),input_shape=(img_rows, img_cols, 1)))\n",
        "model.add(Activation('relu'))\n",
        "model.add(MaxPooling2D(pool_size=(2,2)))\n",
        "\n",
        "model.add(Conv2D(128,(3,3)))\n",
        "model.add(Activation('relu'))\n",
        "model.add(MaxPooling2D(pool_size=(2,2)))\n",
        "\n",
        "model.add(Conv2D(128,(3,3)))\n",
        "model.add(Activation('relu'))\n",
        "model.add(MaxPooling2D(pool_size=(2,2)))\n",
        "\n",
        "model.add(Flatten())\n",
        "model.add(Dropout(0.5))\n",
        "\n",
        "model.add(Dense(64,activation='relu'))\n",
        "model.add(Dense(num_classes,activation='softmax'))\n",
        "\n",
        "\n",
        "print(model.summary())"
      ],
      "execution_count": null,
      "outputs": [
        {
          "output_type": "stream",
          "text": [
            "Model: \"sequential_12\"\n",
            "_________________________________________________________________\n",
            "Layer (type)                 Output Shape              Param #   \n",
            "=================================================================\n",
            "conv2d_25 (Conv2D)           (None, 110, 110, 64)      640       \n",
            "_________________________________________________________________\n",
            "activation_25 (Activation)   (None, 110, 110, 64)      0         \n",
            "_________________________________________________________________\n",
            "max_pooling2d_25 (MaxPooling (None, 55, 55, 64)        0         \n",
            "_________________________________________________________________\n",
            "conv2d_26 (Conv2D)           (None, 53, 53, 128)       73856     \n",
            "_________________________________________________________________\n",
            "activation_26 (Activation)   (None, 53, 53, 128)       0         \n",
            "_________________________________________________________________\n",
            "max_pooling2d_26 (MaxPooling (None, 26, 26, 128)       0         \n",
            "_________________________________________________________________\n",
            "conv2d_27 (Conv2D)           (None, 24, 24, 128)       147584    \n",
            "_________________________________________________________________\n",
            "activation_27 (Activation)   (None, 24, 24, 128)       0         \n",
            "_________________________________________________________________\n",
            "max_pooling2d_27 (MaxPooling (None, 12, 12, 128)       0         \n",
            "_________________________________________________________________\n",
            "flatten_10 (Flatten)         (None, 18432)             0         \n",
            "_________________________________________________________________\n",
            "dropout_8 (Dropout)          (None, 18432)             0         \n",
            "_________________________________________________________________\n",
            "dense_20 (Dense)             (None, 64)                1179712   \n",
            "_________________________________________________________________\n",
            "dense_21 (Dense)             (None, 2)                 130       \n",
            "=================================================================\n",
            "Total params: 1,401,922\n",
            "Trainable params: 1,401,922\n",
            "Non-trainable params: 0\n",
            "_________________________________________________________________\n",
            "None\n"
          ],
          "name": "stdout"
        }
      ]
    },
    {
      "cell_type": "markdown",
      "metadata": {
        "id": "TSxYkObl48qZ"
      },
      "source": [
        "Training the model"
      ]
    },
    {
      "cell_type": "code",
      "metadata": {
        "id": "qVfcy1LY18Rx",
        "colab": {
          "base_uri": "https://localhost:8080/"
        },
        "outputId": "0f65782a-5040-4ae3-dd2f-4bead44f795a"
      },
      "source": [
        "from keras.optimizers import Adam\n",
        "from sklearn.metrics import classification_report\n",
        "\n",
        "epochs = 40\n",
        "#Using the adaptive optimizer\n",
        "model.compile(loss = 'binary_crossentropy',\n",
        "              optimizer = Adam(lr=0.0001, decay=0.0001/epochs),\n",
        "              metrics = ['accuracy'])\n",
        "\n",
        "fitted_model = model.fit(\n",
        "   train_x,train_y,  \n",
        "\t epochs = epochs,\n",
        "\tvalidation_data=(test_x, test_y),\n",
        "\tvalidation_steps=len(test_x) // batch_size,\n",
        "   validation_split=0.25\n",
        "\t )\n",
        "\n",
        "print( \"[INFO] training head... \")\n",
        "'''\n",
        "H = model.fit(\n",
        "\taug.flow(train_x, train_y, batch_size=batch_size),\n",
        "\tsteps_per_epoch=len(train_x) // batch_size,\n",
        "\tvalidation_data=(test_x, test_y),\n",
        "\tvalidation_steps=len(test_x) // batch_size,\n",
        "\tepochs=epochs)'''\n",
        "\n",
        "# make predictions on the testing set\n",
        "print(\"[INFO] evaluating network...\")\n",
        "predIdxs = model.predict(test_x, batch_size=batch_size)\n",
        "\n",
        "# for each image in the testing set we need to find the index of the\n",
        "# label with corresponding largest predicted probability\n",
        "predIdxs = np.argmax(predIdxs, axis=1)\n",
        "\n",
        "# show a nicely formatted classification report\n",
        "print(classification_report(test_y.argmax(axis=1), predIdxs,\n",
        "\ttarget_names=lb.classes_))"
      ],
      "execution_count": null,
      "outputs": [
        {
          "output_type": "stream",
          "text": [
            "Epoch 1/40\n",
            " 1/76 [..............................] - ETA: 1s - loss: 0.6786 - accuracy: 0.6875WARNING:tensorflow:Callbacks method `on_train_batch_end` is slow compared to the batch time (batch time: 0.0109s vs `on_train_batch_end` time: 0.0168s). Check your callbacks.\n",
            "76/76 [==============================] - 2s 28ms/step - loss: 0.6585 - accuracy: 0.5983 - val_loss: 0.6368 - val_accuracy: 0.5778\n",
            "Epoch 2/40\n",
            "76/76 [==============================] - 2s 26ms/step - loss: 0.5888 - accuracy: 0.6743 - val_loss: 0.5377 - val_accuracy: 0.7509\n",
            "Epoch 3/40\n",
            "76/76 [==============================] - 2s 26ms/step - loss: 0.4908 - accuracy: 0.7823 - val_loss: 0.4362 - val_accuracy: 0.8132\n",
            "Epoch 4/40\n",
            "76/76 [==============================] - 2s 26ms/step - loss: 0.4019 - accuracy: 0.8363 - val_loss: 0.3674 - val_accuracy: 0.8468\n",
            "Epoch 5/40\n",
            "76/76 [==============================] - 2s 26ms/step - loss: 0.3676 - accuracy: 0.8484 - val_loss: 0.3492 - val_accuracy: 0.8506\n",
            "Epoch 6/40\n",
            "76/76 [==============================] - 2s 26ms/step - loss: 0.3246 - accuracy: 0.8762 - val_loss: 0.3435 - val_accuracy: 0.8543\n",
            "Epoch 7/40\n",
            "76/76 [==============================] - 2s 26ms/step - loss: 0.2808 - accuracy: 0.8936 - val_loss: 0.3028 - val_accuracy: 0.8692\n",
            "Epoch 8/40\n",
            "76/76 [==============================] - 2s 26ms/step - loss: 0.2551 - accuracy: 0.9028 - val_loss: 0.2800 - val_accuracy: 0.8829\n",
            "Epoch 9/40\n",
            "76/76 [==============================] - 2s 26ms/step - loss: 0.2347 - accuracy: 0.9094 - val_loss: 0.2625 - val_accuracy: 0.8917\n",
            "Epoch 10/40\n",
            "76/76 [==============================] - 2s 27ms/step - loss: 0.2062 - accuracy: 0.9285 - val_loss: 0.2450 - val_accuracy: 0.8991\n",
            "Epoch 11/40\n",
            "76/76 [==============================] - 2s 26ms/step - loss: 0.1951 - accuracy: 0.9306 - val_loss: 0.2244 - val_accuracy: 0.9153\n",
            "Epoch 12/40\n",
            "76/76 [==============================] - 2s 26ms/step - loss: 0.1747 - accuracy: 0.9398 - val_loss: 0.2164 - val_accuracy: 0.9215\n",
            "Epoch 13/40\n",
            "76/76 [==============================] - 2s 26ms/step - loss: 0.1817 - accuracy: 0.9302 - val_loss: 0.2100 - val_accuracy: 0.9265\n",
            "Epoch 14/40\n",
            "76/76 [==============================] - 2s 26ms/step - loss: 0.1423 - accuracy: 0.9531 - val_loss: 0.2357 - val_accuracy: 0.9078\n",
            "Epoch 15/40\n",
            "76/76 [==============================] - 2s 26ms/step - loss: 0.1390 - accuracy: 0.9497 - val_loss: 0.2007 - val_accuracy: 0.9265\n",
            "Epoch 16/40\n",
            "76/76 [==============================] - 2s 26ms/step - loss: 0.1237 - accuracy: 0.9539 - val_loss: 0.1957 - val_accuracy: 0.9315\n",
            "Epoch 17/40\n",
            "76/76 [==============================] - 2s 26ms/step - loss: 0.1195 - accuracy: 0.9551 - val_loss: 0.1903 - val_accuracy: 0.9278\n",
            "Epoch 18/40\n",
            "76/76 [==============================] - 2s 26ms/step - loss: 0.1108 - accuracy: 0.9676 - val_loss: 0.1822 - val_accuracy: 0.9352\n",
            "Epoch 19/40\n",
            "76/76 [==============================] - 2s 26ms/step - loss: 0.1003 - accuracy: 0.9688 - val_loss: 0.1988 - val_accuracy: 0.9278\n",
            "Epoch 20/40\n",
            "76/76 [==============================] - 2s 26ms/step - loss: 0.0926 - accuracy: 0.9680 - val_loss: 0.1973 - val_accuracy: 0.9253\n",
            "Epoch 21/40\n",
            "76/76 [==============================] - 2s 26ms/step - loss: 0.0846 - accuracy: 0.9659 - val_loss: 0.1855 - val_accuracy: 0.9365\n",
            "Epoch 22/40\n",
            "76/76 [==============================] - 2s 26ms/step - loss: 0.0822 - accuracy: 0.9742 - val_loss: 0.1738 - val_accuracy: 0.9390\n",
            "Epoch 23/40\n",
            "76/76 [==============================] - 2s 26ms/step - loss: 0.0655 - accuracy: 0.9805 - val_loss: 0.1805 - val_accuracy: 0.9365\n",
            "Epoch 24/40\n",
            "76/76 [==============================] - 2s 26ms/step - loss: 0.0672 - accuracy: 0.9763 - val_loss: 0.1802 - val_accuracy: 0.9352\n",
            "Epoch 25/40\n",
            "76/76 [==============================] - 2s 26ms/step - loss: 0.0699 - accuracy: 0.9784 - val_loss: 0.1918 - val_accuracy: 0.9365\n",
            "Epoch 26/40\n",
            "76/76 [==============================] - 2s 26ms/step - loss: 0.0521 - accuracy: 0.9813 - val_loss: 0.1854 - val_accuracy: 0.9415\n",
            "Epoch 27/40\n",
            "76/76 [==============================] - 2s 26ms/step - loss: 0.0543 - accuracy: 0.9817 - val_loss: 0.1840 - val_accuracy: 0.9440\n",
            "Epoch 28/40\n",
            "76/76 [==============================] - 2s 26ms/step - loss: 0.0429 - accuracy: 0.9880 - val_loss: 0.1825 - val_accuracy: 0.9352\n",
            "Epoch 29/40\n",
            "76/76 [==============================] - 2s 26ms/step - loss: 0.0420 - accuracy: 0.9863 - val_loss: 0.1825 - val_accuracy: 0.9440\n",
            "Epoch 30/40\n",
            "76/76 [==============================] - 2s 26ms/step - loss: 0.0411 - accuracy: 0.9888 - val_loss: 0.1924 - val_accuracy: 0.9290\n",
            "Epoch 31/40\n",
            "76/76 [==============================] - 2s 26ms/step - loss: 0.0420 - accuracy: 0.9863 - val_loss: 0.1785 - val_accuracy: 0.9465\n",
            "Epoch 32/40\n",
            "76/76 [==============================] - 2s 26ms/step - loss: 0.0376 - accuracy: 0.9892 - val_loss: 0.1877 - val_accuracy: 0.9352\n",
            "Epoch 33/40\n",
            "76/76 [==============================] - 2s 26ms/step - loss: 0.0366 - accuracy: 0.9896 - val_loss: 0.2183 - val_accuracy: 0.9278\n",
            "Epoch 34/40\n",
            "76/76 [==============================] - 2s 26ms/step - loss: 0.0368 - accuracy: 0.9896 - val_loss: 0.2011 - val_accuracy: 0.9365\n",
            "Epoch 35/40\n",
            "76/76 [==============================] - 2s 26ms/step - loss: 0.0282 - accuracy: 0.9929 - val_loss: 0.1840 - val_accuracy: 0.9427\n",
            "Epoch 36/40\n",
            "76/76 [==============================] - 2s 26ms/step - loss: 0.0319 - accuracy: 0.9917 - val_loss: 0.1901 - val_accuracy: 0.9427\n",
            "Epoch 37/40\n",
            "76/76 [==============================] - 2s 26ms/step - loss: 0.0354 - accuracy: 0.9896 - val_loss: 0.2059 - val_accuracy: 0.9390\n",
            "Epoch 38/40\n",
            "76/76 [==============================] - 2s 26ms/step - loss: 0.0291 - accuracy: 0.9925 - val_loss: 0.2006 - val_accuracy: 0.9415\n",
            "Epoch 39/40\n",
            "76/76 [==============================] - 2s 26ms/step - loss: 0.0251 - accuracy: 0.9942 - val_loss: 0.1907 - val_accuracy: 0.9477\n",
            "Epoch 40/40\n",
            "76/76 [==============================] - 2s 26ms/step - loss: 0.0223 - accuracy: 0.9942 - val_loss: 0.1945 - val_accuracy: 0.9489\n",
            "[INFO] training head... \n",
            "[INFO] evaluating network...\n",
            "              precision    recall  f1-score   support\n",
            "\n",
            "   with_mask       0.96      0.96      0.96       701\n",
            "without_mask       0.92      0.93      0.92       370\n",
            "\n",
            "    accuracy                           0.95      1071\n",
            "   macro avg       0.94      0.94      0.94      1071\n",
            "weighted avg       0.95      0.95      0.95      1071\n",
            "\n"
          ],
          "name": "stdout"
        }
      ]
    },
    {
      "cell_type": "markdown",
      "metadata": {
        "id": "xFUdttrX5A0n"
      },
      "source": [
        "Plot the model in the form of diagram"
      ]
    },
    {
      "cell_type": "code",
      "metadata": {
        "id": "5PMg3dJM5QrW",
        "colab": {
          "base_uri": "https://localhost:8080/",
          "height": 1000
        },
        "outputId": "7a9e5587-98f2-41ed-8b13-216c510c2890"
      },
      "source": [
        "from keras.utils.vis_utils import plot_model\n",
        "plot_model(model, to_file = \"Face_mask_detection_model.png\")"
      ],
      "execution_count": null,
      "outputs": [
        {
          "output_type": "execute_result",
          "data": {
            "image/png": "[encoded data removed]",
            "text/plain": [
              "<IPython.core.display.Image object>"
            ]
          },
          "metadata": {
            "tags": []
          },
          "execution_count": 6
        }
      ]
    },
    {
      "cell_type": "markdown",
      "metadata": {
        "id": "ls6hfmip6Zzo"
      },
      "source": [
        "Plot the training loss and Accuracy of the model"
      ]
    },
    {
      "cell_type": "code",
      "metadata": {
        "id": "0PbxPdYe6Y5H",
        "colab": {
          "base_uri": "https://localhost:8080/",
          "height": 541
        },
        "outputId": "dae71a3b-1d63-4ce7-b976-5ceee58cce6e"
      },
      "source": [
        "from matplotlib import pyplot as plt\n",
        "plt.plot( fitted_model.history['loss'],'r',label='Training Loss')\n",
        "plt.plot( fitted_model.history['val_loss'],label='Validation Loss',color='blue')\n",
        "plt.xlabel('Number of Epochs')\n",
        "plt.ylabel('Loss Value')\n",
        "plt.legend()\n",
        "plt.show()\n",
        "\n",
        "plt.plot( fitted_model.history['accuracy'],'r',label='Training accuracy')\n",
        "plt.plot( fitted_model.history['val_accuracy'],label='Validation accuracy',color='blue')\n",
        "plt.xlabel('Number of Epochs')\n",
        "plt.ylabel('Accuracy Value')\n",
        "plt.legend()\n",
        "plt.show()\n",
        "\n"
      ],
      "execution_count": null,
      "outputs": [
        {
          "output_type": "display_data",
          "data": {
            "image/png": "[encoded data removed]",
            "text/plain": [
              "<Figure size 432x288 with 1 Axes>"
            ]
          },
          "metadata": {
            "tags": [],
            "needs_background": "light"
          }
        },
        {
          "output_type": "display_data",
          "data": {
            "image/png": "[encoded data removed]",
            "text/plain": [
              "<Figure size 432x288 with 1 Axes>"
            ]
          },
          "metadata": {
            "tags": [],
            "needs_background": "light"
          }
        }
      ]
    },
    {
      "cell_type": "markdown",
      "metadata": {
        "id": "DvCxBWeN7-Wx"
      },
      "source": [
        "Save the model"
      ]
    },
    {
      "cell_type": "code",
      "metadata": {
        "id": "_0FBJZJA79eg"
      },
      "source": [
        "model.save('Face_mask_detection.h5')"
      ],
      "execution_count": null,
      "outputs": []
    }
  ]
}